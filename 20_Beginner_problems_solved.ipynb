{
 "cells": [
  {
   "cell_type": "markdown",
   "metadata": {},
   "source": [
    "# logic building "
   ]
  },
  {
   "cell_type": "markdown",
   "metadata": {},
   "source": [
    "### 1.write a program to create input list that give sum of a square of even number"
   ]
  },
  {
   "cell_type": "code",
   "execution_count": 1,
   "metadata": {},
   "outputs": [
    {
     "name": "stdout",
     "output_type": "stream",
     "text": [
      "enter the values but maintain the space between them:1 2 3 4 5\n",
      "4\n",
      "16\n",
      "sum of the list is 20\n"
     ]
    }
   ],
   "source": [
    "variable = input('enter the values but maintain the space between them:')\n",
    "split = variable.split()\n",
    "\n",
    "squared = [] \n",
    "\n",
    "for num in split:\n",
    "    num = int(num)\n",
    "    if num%2 == 0:\n",
    "        cal = num * num\n",
    "        print(cal)\n",
    "        squared.append(cal)\n",
    "print(f'sum of the list is {sum(squared)}')\n",
    "        "
   ]
  },
  {
   "cell_type": "markdown",
   "metadata": {},
   "source": [
    " ### 2.Write a program to find the maximum of two numbers."
   ]
  },
  {
   "cell_type": "code",
   "execution_count": 4,
   "metadata": {},
   "outputs": [
    {
     "name": "stdout",
     "output_type": "stream",
     "text": [
      "Enter your first no.2\n",
      "Enter your second no.3\n",
      "the maximum value of two input no. is 3\n"
     ]
    }
   ],
   "source": [
    "num1 = input(\"Enter your first no.\")\n",
    "num2 = input(\"Enter your second no.\")\n",
    "\n",
    "value = max( num1, num2)\n",
    "\n",
    "print(f'the maximum value of two input no. is {value}')"
   ]
  },
  {
   "cell_type": "markdown",
   "metadata": {},
   "source": [
    "### 3.Write a program to check if a number is positive, negative, or zero."
   ]
  },
  {
   "cell_type": "code",
   "execution_count": 35,
   "metadata": {},
   "outputs": [
    {
     "name": "stdout",
     "output_type": "stream",
     "text": [
      "enter value:-1\n",
      "value is negative\n"
     ]
    }
   ],
   "source": [
    "number = int(input('enter value:'))\n",
    "if number == 0:\n",
    "    print('value is zero')\n",
    "elif number <= 0:\n",
    "    print('value is negative')\n",
    "else:\n",
    "    print('value is postive')"
   ]
  },
  {
   "cell_type": "markdown",
   "metadata": {},
   "source": [
    "### 4. Write a program to calculate the average of three numbers."
   ]
  },
  {
   "cell_type": "code",
   "execution_count": 5,
   "metadata": {},
   "outputs": [
    {
     "name": "stdout",
     "output_type": "stream",
     "text": [
      "Average of three no. is: 28\n"
     ]
    }
   ],
   "source": [
    "list = [10,20,53]\n",
    "\n",
    "print(f'Average of three no. is: {round(sum(list)/len(list))}')"
   ]
  },
  {
   "cell_type": "markdown",
   "metadata": {},
   "source": [
    "## 5. Write a program to check if a year is leap year or not."
   ]
  },
  {
   "cell_type": "code",
   "execution_count": 12,
   "metadata": {},
   "outputs": [
    {
     "name": "stdout",
     "output_type": "stream",
     "text": [
      "Enter year:2004\n",
      "it a leaf year\n"
     ]
    }
   ],
   "source": [
    "year = int(input(\"Enter year:\"))\n",
    "\n",
    "if year %4 == 0:\n",
    "    print(\"it a leaf year\")\n",
    "else:\n",
    "    print('its not a leaf year')"
   ]
  },
  {
   "cell_type": "markdown",
   "metadata": {},
   "source": [
    "## 6.Write a program to swap two numbers without using a temporary variable."
   ]
  },
  {
   "cell_type": "code",
   "execution_count": 23,
   "metadata": {},
   "outputs": [
    {
     "name": "stdout",
     "output_type": "stream",
     "text": [
      "previous A: 30 we swapped to :40\n",
      "previous A: 40 we swapped to :30\n"
     ]
    }
   ],
   "source": [
    "a = 30 \n",
    "b = 40 \n",
    "c = a+b\n",
    "a = b\n",
    "b = c-b\n",
    "print(f'previous A: 30, swapped to :{a}')\n",
    "print(f'previous A: 40. swapped to :{b}')\n",
    "\n"
   ]
  },
  {
   "cell_type": "markdown",
   "metadata": {},
   "source": [
    "## 7.Write a program to find the factorial of a number."
   ]
  },
  {
   "cell_type": "code",
   "execution_count": 68,
   "metadata": {},
   "outputs": [
    {
     "name": "stdout",
     "output_type": "stream",
     "text": [
      "Enter value:12\n",
      "factorial of 12 is 479001600\n"
     ]
    }
   ],
   "source": [
    "value = int(input('Enter value:'))\n",
    "factorial = 1 \n",
    "for x in range(1,value+1):\n",
    "    factorial *= x\n",
    "    \n",
    "print(f'factorial of {value} is {factorial}')\n"
   ]
  },
  {
   "cell_type": "markdown",
   "metadata": {},
   "source": [
    "## 8. Write a program to print the Fibonacci series up to a given number of terms."
   ]
  },
  {
   "cell_type": "code",
   "execution_count": 44,
   "metadata": {},
   "outputs": [
    {
     "name": "stdout",
     "output_type": "stream",
     "text": [
      "how long fibonacci series you want20\n",
      "[0, 1, 1, 2, 3, 5, 8, 13, 21, 34, 55, 89, 144, 233, 377, 610, 987, 1597, 2584, 4181]\n"
     ]
    }
   ],
   "source": [
    "num = int(input('how long fibonacci series you want'))\n",
    "\n",
    "list = [0,1]\n",
    "\n",
    "for i in range(2,num):\n",
    "    num = list[i-1] + list[i-2]\n",
    "    list.append(num)\n",
    "print(list)"
   ]
  },
  {
   "cell_type": "markdown",
   "metadata": {},
   "source": [
    "## 9. Write a program to check if a string is a palindrome."
   ]
  },
  {
   "cell_type": "code",
   "execution_count": 1,
   "metadata": {},
   "outputs": [
    {
     "name": "stdout",
     "output_type": "stream",
     "text": [
      "Enter any word:racecar\n",
      "0\n",
      "1\n",
      "2\n",
      "The word is palindrome\n"
     ]
    }
   ],
   "source": [
    "word = input(\"Enter any word:\")\n",
    "\n",
    "word = word.strip().lower()\n",
    "is_palindrome = True\n",
    "for letter in range(len(word)//2):\n",
    "    print(letter)\n",
    "    if word[letter] != word[(len(word) - letter)-1]:\n",
    "        is_palindrome = False\n",
    "        break\n",
    "\n",
    "if is_palindrome == True:\n",
    "    print('The word is palindrome')\n",
    "else:\n",
    "    print('The word is not palindrome') "
   ]
  },
  {
   "cell_type": "markdown",
   "metadata": {},
   "source": [
    "## 10. Write a program to count the number of vowels in a string."
   ]
  },
  {
   "cell_type": "code",
   "execution_count": 2,
   "metadata": {},
   "outputs": [
    {
     "name": "stdout",
     "output_type": "stream",
     "text": [
      "Type any sentence:hii my name is rishikesh\n",
      "Total no. of vowels in this give sentence \"hii my name is rishikesh\" is 8\n"
     ]
    }
   ],
   "source": [
    "vowels = input('Type any sentence:')\n",
    "vowels = vowels.lower()\n",
    "a = vowels.count('a')\n",
    "i = vowels.count('i')\n",
    "e = vowels.count('e')\n",
    "u = vowels.count('u')\n",
    "o = vowels.count('o')\n",
    "\n",
    "aieuo = a + i + e + u + o\n",
    "\n",
    "print(f'Total no. of vowels in this give sentence \"{vowels}\" is {aieuo}')"
   ]
  },
  {
   "cell_type": "markdown",
   "metadata": {},
   "source": [
    "## 11.Write a program to find the largest element in an array."
   ]
  },
  {
   "cell_type": "code",
   "execution_count": 5,
   "metadata": {},
   "outputs": [
    {
     "name": "stdout",
     "output_type": "stream",
     "text": [
      "10\n"
     ]
    }
   ],
   "source": [
    "array = [1,2,3,4,5,6,6,7,8,9,10]\n",
    "maximum = max(array)\n",
    "print(maximum)"
   ]
  },
  {
   "cell_type": "markdown",
   "metadata": {},
   "source": [
    "## 12. Write a program to check if two strings are anagrams."
   ]
  },
  {
   "cell_type": "code",
   "execution_count": 29,
   "metadata": {},
   "outputs": [
    {
     "name": "stdout",
     "output_type": "stream",
     "text": [
      "Enter your first word: eliva\n",
      "Enter your second word: alive\n",
      "Both word \"eliva\" and \"alive\" are anagram \n"
     ]
    }
   ],
   "source": [
    "bfirst_word = input('Enter your first word: ')\n",
    "second_word = input('Enter your second word: ')\n",
    "\n",
    "first_word = first_word.replace(\",\",\"\").lower()\n",
    "second_word = second_word.replace(\",\",\"\").lower()\n",
    "\n",
    "first_list = list(first_word)\n",
    "second_list = list(second_word)\n",
    "\n",
    "first_list.sort()\n",
    "second_list.sort()\n",
    "\n",
    "if first_list == second_list:\n",
    "    print(f'Both word \"{first_word}\" and \"{second_word}\" are anagram ')\n",
    "else:\n",
    "    print(f'Both word \"{first_word}\" and \"{second_word}\" are not an anagram ')\n"
   ]
  },
  {
   "cell_type": "markdown",
   "metadata": {},
   "source": [
    "## Write a program to reverse a string."
   ]
  },
  {
   "cell_type": "code",
   "execution_count": 50,
   "metadata": {},
   "outputs": [
    {
     "name": "stdout",
     "output_type": "stream",
     "text": [
      "Enter any String:Rishikesh\n",
      "hsekihsiR\n"
     ]
    }
   ],
   "source": [
    "string =input('Enter any String:')\n",
    "reverse = string[::-1]\n",
    "print(reverse)"
   ]
  },
  {
   "cell_type": "markdown",
   "metadata": {},
   "source": [
    "## 14. Write a program to find the sum of all even numbers from 1 to N."
   ]
  },
  {
   "cell_type": "code",
   "execution_count": 81,
   "metadata": {},
   "outputs": [
    {
     "name": "stdout",
     "output_type": "stream",
     "text": [
      "Enter the Nth number:10\n",
      "sum of even no. from 1 to N =10 is 30\n"
     ]
    }
   ],
   "source": [
    "N = int(input('Enter the Nth number:'))\n",
    "even_num = []\n",
    "for num in range(0,N+1,2):\n",
    "    even_num.append(num)\n",
    "even_sum = sum(even_num)\n",
    "print(f'sum of even no. from 1 to N ={N} is {even_sum}')"
   ]
  },
  {
   "cell_type": "markdown",
   "metadata": {},
   "source": [
    "## 15. Write a program to find the radius of circle"
   ]
  },
  {
   "cell_type": "code",
   "execution_count": 83,
   "metadata": {},
   "outputs": [
    {
     "name": "stdout",
     "output_type": "stream",
     "text": [
      "Size of a radius: 6\n",
      "Area of circle is 113.04\n"
     ]
    }
   ],
   "source": [
    "radius = int(input('Size of a radius: '))\n",
    "\n",
    "circle_area = 3.14 * (radius**2)\n",
    "print(f'Area of circle is {circle_area}')"
   ]
  },
  {
   "cell_type": "markdown",
   "metadata": {},
   "source": [
    "## 16. Write a prgrame to amstrong number\n"
   ]
  },
  {
   "cell_type": "code",
   "execution_count": 14,
   "metadata": {},
   "outputs": [
    {
     "name": "stdout",
     "output_type": "stream",
     "text": [
      "Enter any number: 153\n",
      "Number is amstrong number\n"
     ]
    }
   ],
   "source": [
    "num = int(input('Enter any number: '))\n",
    "num_str = str(num)\n",
    "num_len = len(num_str)\n",
    "\n",
    "amstrong_digit = 0\n",
    "\n",
    "for digit in num_str:\n",
    "    amstrong_digit += int(digit)**num_len\n",
    "if amstrong_digit == num:\n",
    "    print(f'Number is an amstrong number')\n",
    "else:\n",
    "    print(f'Number is not an amstrong number')\n"
   ]
  },
  {
   "cell_type": "markdown",
   "metadata": {},
   "source": [
    "## 17. Write a program to find the GCD (Greatest Common Divisor) of two numbers."
   ]
  },
  {
   "cell_type": "code",
   "execution_count": 9,
   "metadata": {},
   "outputs": [
    {
     "name": "stdout",
     "output_type": "stream",
     "text": [
      "Enter first number: 22\n",
      "Enter second number: 60\n",
      "GCD of 22 and 60 is 0\n"
     ]
    }
   ],
   "source": [
    "def find_gcd(a,b):\n",
    "    while b != 0:\n",
    "        a,b = b, a % b\n",
    "    return a\n",
    "\n",
    "num1 = int(input('Enter first number: '))\n",
    "num2 = int(input('Enter second number: '))\n",
    "\n",
    "finding = find_gcd(num1,num2)\n",
    "\n",
    "print(f'GCD of {num1} and {num2} is {finding}')"
   ]
  },
  {
   "cell_type": "markdown",
   "metadata": {},
   "source": [
    "## 18.Write a program to check if a number is a perfect number."
   ]
  },
  {
   "cell_type": "code",
   "execution_count": 64,
   "metadata": {},
   "outputs": [
    {
     "name": "stdout",
     "output_type": "stream",
     "text": [
      "Enter any number: 28\n",
      "1\n",
      "3\n",
      "7\n",
      "14\n",
      "28\n",
      "Number is perfect number.\n"
     ]
    }
   ],
   "source": [
    "given_number = int(input('Enter any number: '))\n",
    "division_num = 0\n",
    "for i in range(1,given_number):\n",
    "    if given_number%i == 0:    \n",
    "        division_num += i\n",
    "        print(division_num)\n",
    "if division_num == given_number:\n",
    "    print('Number is perfect number.')\n",
    "else:\n",
    "    print('Number is not a perfect number.')    "
   ]
  },
  {
   "cell_type": "markdown",
   "metadata": {},
   "source": [
    "## 19. Write a program to convert temperature from Celsius to Fahrenheit."
   ]
  },
  {
   "cell_type": "code",
   "execution_count": 72,
   "metadata": {},
   "outputs": [
    {
     "name": "stdout",
     "output_type": "stream",
     "text": [
      "Enter celcius value: 32\n",
      "32c` is 89.6f`\n"
     ]
    }
   ],
   "source": [
    "celcius = int(input('Enter celcius value: '))\n",
    "\n",
    "fahrenheit = (celcius * 1.8)  + 32\n",
    "\n",
    "print(f'{celcius}c` is {fahrenheit}f`')"
   ]
  },
  {
   "cell_type": "markdown",
   "metadata": {},
   "source": [
    "## 20.Write a program to check if a string is a pangram."
   ]
  },
  {
   "cell_type": "code",
   "execution_count": 6,
   "metadata": {},
   "outputs": [
    {
     "name": "stdout",
     "output_type": "stream",
     "text": [
      "Type sentence that you like to check: Waltz, nymph, for quick jigs vex Bud.\n",
      "Given sentence is pangram\n"
     ]
    }
   ],
   "source": [
    "sentence = input('Type sentence that you like to check: ')\n",
    "\n",
    "sentence = sentence.replace(' ','').lower()\n",
    "sentence = sentence.replace('.', '')\n",
    "sentence = sentence.replace(',', '')\n",
    "sentence = sentence.replace('!', '')\n",
    "sentence = sentence.replace('?', '')\n",
    "\n",
    "\n",
    "list_of_sen = list(set(sentence))\n",
    "sorted_list = sorted(list_of_sen)\n",
    "\n",
    "alphabet = ['a', 'b', 'c', 'd', 'e', 'f', 'g', 'h', 'i', 'j', 'k', \n",
    "            'l', 'm', 'n', 'o', 'p', 'q', 'r', 's', 't', 'u', 'v',\n",
    "            'w', 'x', 'y', 'z']\n",
    "if alphabet == sorted_list:\n",
    "    print('Given sentence is pangram')\n",
    "else:\n",
    "    print('given sentence is not a pangram')\n"
   ]
  }
 ],
 "metadata": {
  "kernelspec": {
   "display_name": "Python 3",
   "language": "python",
   "name": "python3"
  },
  "language_info": {
   "codemirror_mode": {
    "name": "ipython",
    "version": 3
   },
   "file_extension": ".py",
   "mimetype": "text/x-python",
   "name": "python",
   "nbconvert_exporter": "python",
   "pygments_lexer": "ipython3",
   "version": "3.8.5"
  }
 },
 "nbformat": 4,
 "nbformat_minor": 4
}
